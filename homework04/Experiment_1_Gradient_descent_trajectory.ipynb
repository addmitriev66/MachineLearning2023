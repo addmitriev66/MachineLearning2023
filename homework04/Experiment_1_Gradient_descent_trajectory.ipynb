{
 "cells": [
  {
   "cell_type": "markdown",
   "id": "2dbc3fb9",
   "metadata": {},
   "source": [
    "Для проведения эксперимента, мы сначала определим несколько квадратичных функций с разными числами обусловленности, а затем проанализируем поведение метода градиентного спуска для каждой из них. Для наглядности используем линии уровня и траектории методов."
   ]
  },
  {
   "cell_type": "code",
   "execution_count": null,
   "id": "ee4f38e0",
   "metadata": {},
   "outputs": [],
   "source": [
    "import numpy as np\n",
    "import matplotlib.pyplot as plt\n",
    "from scipy.linalg import cholesky\n",
    "\n",
    "# Генерация квадратичных функций\n",
    "def generate_quadratic_function(cond_number):\n",
    "    np.random.seed(0)\n",
    "    n = 2  # Размерность пространства признаков\n",
    "    A = np.random.rand(n, n)\n",
    "    A = np.dot(A.T, A)  # Симметризуем матрицу\n",
    "    L = cholesky(A, lower=True)  # Разложение Холецкого для генерации матрицы с нужным числом обусловленности\n",
    "    L_inv = np.linalg.inv(L)\n",
    "    A_new = np.dot(L_inv.T, np.dot(A, L_inv))\n",
    "    b = np.random.rand(n)\n",
    "    return A_new, b\n",
    "\n",
    "# Градиентный спуск\n",
    "def gradient_descent(A, b, learning_rate=0.1, num_iterations=100):\n",
    "    n = len(b)\n",
    "    x = np.zeros(n)  # Начальная точка\n",
    "    trajectory = [x]\n",
    "    for _ in range(num_iterations):\n",
    "        gradient = A.dot(x) - b\n",
    "        x = x - learning_rate * gradient\n",
    "        trajectory.append(x)\n",
    "    return np.array(trajectory)\n",
    "\n",
    "# Функция для рисования линий уровня\n",
    "def plot_levels(A, b, ax):\n",
    "    delta = 0.025\n",
    "    x = np.arange(-1.5, 1.5, delta)\n",
    "    y = np.arange(-1.5, 1.5, delta)\n",
    "    X, Y = np.meshgrid(x, y)\n",
    "    Z = 0.5 * (A[0, 0] * X**2 + 2 * A[0, 1] * X * Y + A[1, 1] * Y**2) - (b[0] * X + b[1] * Y)\n",
    "    ax.contour(X, Y, Z, levels=[0.5], colors='r')\n",
    "\n",
    "# Главная функция\n",
    "def main():\n",
    "    cond_numbers = [1, 10, 100]  # Разные числа обусловленности\n",
    "    num_iterations = 20\n",
    "    learning_rate = 0.1\n",
    "    \n",
    "    for cond_number in cond_numbers:\n",
    "        A, b = generate_quadratic_function(cond_number)\n",
    "        trajectory = gradient_descent(A, b, learning_rate, num_iterations)\n",
    "        \n",
    "        fig, ax = plt.subplots()\n",
    "        plot_levels(A, b, ax)\n",
    "        ax.plot(trajectory[:, 0], trajectory[:, 1], 'bo-')\n",
    "        ax.set_title(f'Gradient Descent with Condition Number {cond_number}')\n",
    "        plt.xlabel('X')\n",
    "        plt.ylabel('Y')\n",
    "        plt.grid(True)\n",
    "        plt.show()\n",
    "\n",
    "if __name__ == \"__main__\":\n",
    "    main()\n"
   ]
  },
  {
   "cell_type": "markdown",
   "id": "b794807b",
   "metadata": {},
   "source": [
    "В этой программе генерируются квадратичные функции с разными числами обусловленности, и на каждой из них запускается градиентный спуск. Результаты визуализируются с помощью линий уровня и траекторий градиентного спуска."
   ]
  },
  {
   "cell_type": "code",
   "execution_count": null,
   "id": "c5893008",
   "metadata": {},
   "outputs": [],
   "source": []
  }
 ],
 "metadata": {
  "kernelspec": {
   "display_name": "Python 3 (ipykernel)",
   "language": "python",
   "name": "python3"
  },
  "language_info": {
   "codemirror_mode": {
    "name": "ipython",
    "version": 3
   },
   "file_extension": ".py",
   "mimetype": "text/x-python",
   "name": "python",
   "nbconvert_exporter": "python",
   "pygments_lexer": "ipython3",
   "version": "3.9.6"
  }
 },
 "nbformat": 4,
 "nbformat_minor": 5
}
