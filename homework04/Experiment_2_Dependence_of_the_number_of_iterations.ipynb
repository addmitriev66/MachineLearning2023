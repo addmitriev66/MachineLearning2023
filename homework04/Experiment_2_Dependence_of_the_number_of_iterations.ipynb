{
 "cells": [
  {
   "cell_type": "markdown",
   "id": "2dbc3fb9",
   "metadata": {},
   "source": [
    "Для проведения этого эксперимента, нужно сначала реализовать генерацию случайной квадратичной задачи с заданными значениями числа обусловленности и размерности пространства. Затем можно запустить градиентный спуск на этой задаче и измерить количество итераций, необходимых для сходимости. Повторив этот процесс для разных значений числа обусловленности и размерности, мы можем построить зависимость числа итераций от числа обусловленности для различных размерностей пространства."
   ]
  },
  {
   "cell_type": "code",
   "execution_count": null,
   "id": "6b4696bd",
   "metadata": {},
   "outputs": [],
   "source": [
    "import numpy as np\n",
    "from scipy.sparse import diags\n",
    "import matplotlib.pyplot as plt\n",
    "\n",
    "# Реализация генерации случайной квадратичной задачи\n",
    "def generate_quadratic_problem(n, condition_number):\n",
    "    np.random.seed(0)\n",
    "    diagonal = np.random.uniform(1, condition_number, n)\n",
    "    A = diags(diagonal)\n",
    "    b = np.random.rand(n)\n",
    "    return A, b\n",
    "\n",
    "# Реализация градиентного спуска\n",
    "def gradient_descent(A, b, tolerance=1e-5, max_iter=10000):\n",
    "    x = np.zeros_like(b)\n",
    "    for iteration in range(max_iter):\n",
    "        gradient = A.dot(x) - b\n",
    "        step_size = np.linalg.norm(gradient) ** 2 / np.linalg.norm(A.dot(gradient)) ** 2\n",
    "        x -= step_size * gradient\n",
    "        if np.linalg.norm(gradient) < tolerance:\n",
    "            return x, iteration + 1\n",
    "    return x, max_iter\n",
    "\n",
    "# Эксперимент: зависимость числа итераций от числа обусловленности и размерности\n",
    "n_values = [10, 100, 1000]  # Размерности пространства\n",
    "kappa_values = np.linspace(1, 100, 50)  # Значения числа обусловленности\n",
    "num_experiments = 5  # Количество повторений эксперимента\n",
    "\n",
    "colors = iter(plt.cm.rainbow(np.linspace(0, 1, len(n_values))))\n",
    "\n",
    "for n in n_values:\n",
    "    color = next(colors)\n",
    "    iterations_list = []\n",
    "    for kappa in kappa_values:\n",
    "        total_iterations = 0\n",
    "        for _ in range(num_experiments):\n",
    "            A, b = generate_quadratic_problem(n, kappa)\n",
    "            _, iterations = gradient_descent(A, b)\n",
    "            total_iterations += iterations\n",
    "        average_iterations = total_iterations / num_experiments\n",
    "        iterations_list.append(average_iterations)\n",
    "    plt.plot(kappa_values, iterations_list, color=color, label=f'n={n}')\n",
    "\n",
    "plt.xlabel('Число обусловленности (κ)')\n",
    "plt.ylabel('Среднее число итераций')\n",
    "plt.title('Зависимость числа итераций от числа обусловленности и размерности пространства')\n",
    "plt.legend()\n",
    "plt.grid(True)\n",
    "plt.show()\n"
   ]
  },
  {
   "cell_type": "markdown",
   "id": "b253cc22",
   "metadata": {},
   "source": [
    "В этом коде мы генерируем случайные квадратичные задачи для разных значений числа обусловленности и размерности пространства. Затем запускаем градиентный спуск на каждой задаче и измеряем среднее количество итераций для нескольких повторений эксперимента. Результаты отображаются на графике, где каждый цвет представляет разные значения размерности пространства n."
   ]
  }
 ],
 "metadata": {
  "kernelspec": {
   "display_name": "Python 3 (ipykernel)",
   "language": "python",
   "name": "python3"
  },
  "language_info": {
   "codemirror_mode": {
    "name": "ipython",
    "version": 3
   },
   "file_extension": ".py",
   "mimetype": "text/x-python",
   "name": "python",
   "nbconvert_exporter": "python",
   "pygments_lexer": "ipython3",
   "version": "3.9.6"
  }
 },
 "nbformat": 4,
 "nbformat_minor": 5
}
